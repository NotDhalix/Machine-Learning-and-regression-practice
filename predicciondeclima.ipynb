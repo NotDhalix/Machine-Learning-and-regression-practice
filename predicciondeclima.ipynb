{
 "cells": [
  {
   "cell_type": "code",
   "execution_count": 1,
   "id": "8c419727",
   "metadata": {},
   "outputs": [],
   "source": [
    "#Alejandro Gonzalez alejandro.gonzalez10@utp.ac.pa\n",
    "#Jordy Rosales jordy.rosales@utp.ac.pa\n",
    "#Alfonso Rodriguez alfonso.rodriguez1@ut.ac.pa"
   ]
  },
  {
   "cell_type": "code",
   "execution_count": 2,
   "id": "aeb454e1",
   "metadata": {},
   "outputs": [],
   "source": [
    "import numpy as np\n",
    "import matplotlib.pyplot as plt\n",
    "import pandas as pd\n",
    "from sklearn.neural_network import MLPRegressor"
   ]
  },
  {
   "cell_type": "code",
   "execution_count": 3,
   "id": "6acc57a7",
   "metadata": {},
   "outputs": [
    {
     "data": {
      "text/html": [
       "<div>\n",
       "<style scoped>\n",
       "    .dataframe tbody tr th:only-of-type {\n",
       "        vertical-align: middle;\n",
       "    }\n",
       "\n",
       "    .dataframe tbody tr th {\n",
       "        vertical-align: top;\n",
       "    }\n",
       "\n",
       "    .dataframe thead th {\n",
       "        text-align: right;\n",
       "    }\n",
       "</style>\n",
       "<table border=\"1\" class=\"dataframe\">\n",
       "  <thead>\n",
       "    <tr style=\"text-align: right;\">\n",
       "      <th></th>\n",
       "      <th>Direccion del viento</th>\n",
       "      <th>Velocidad del viento</th>\n",
       "      <th>% de Humedad</th>\n",
       "      <th>Temperatura</th>\n",
       "      <th>Lluvia</th>\n",
       "      <th>Presion atmosferica</th>\n",
       "      <th>Potencia</th>\n",
       "      <th>Intensidad luminica</th>\n",
       "    </tr>\n",
       "  </thead>\n",
       "  <tbody>\n",
       "    <tr>\n",
       "      <th>0</th>\n",
       "      <td>180</td>\n",
       "      <td>0.0</td>\n",
       "      <td>72</td>\n",
       "      <td>17.000</td>\n",
       "      <td>0</td>\n",
       "      <td>30.1</td>\n",
       "      <td>4</td>\n",
       "      <td>63</td>\n",
       "    </tr>\n",
       "    <tr>\n",
       "      <th>1</th>\n",
       "      <td>171</td>\n",
       "      <td>0.0</td>\n",
       "      <td>72</td>\n",
       "      <td>17.056</td>\n",
       "      <td>0</td>\n",
       "      <td>30.1</td>\n",
       "      <td>4</td>\n",
       "      <td>63</td>\n",
       "    </tr>\n",
       "    <tr>\n",
       "      <th>2</th>\n",
       "      <td>136</td>\n",
       "      <td>1.9</td>\n",
       "      <td>72</td>\n",
       "      <td>17.111</td>\n",
       "      <td>0</td>\n",
       "      <td>30.1</td>\n",
       "      <td>4</td>\n",
       "      <td>63</td>\n",
       "    </tr>\n",
       "    <tr>\n",
       "      <th>3</th>\n",
       "      <td>138</td>\n",
       "      <td>1.9</td>\n",
       "      <td>71</td>\n",
       "      <td>17.111</td>\n",
       "      <td>0</td>\n",
       "      <td>30.1</td>\n",
       "      <td>4</td>\n",
       "      <td>63</td>\n",
       "    </tr>\n",
       "    <tr>\n",
       "      <th>4</th>\n",
       "      <td>171</td>\n",
       "      <td>1.9</td>\n",
       "      <td>72</td>\n",
       "      <td>17.000</td>\n",
       "      <td>0</td>\n",
       "      <td>30.1</td>\n",
       "      <td>4</td>\n",
       "      <td>63</td>\n",
       "    </tr>\n",
       "    <tr>\n",
       "      <th>...</th>\n",
       "      <td>...</td>\n",
       "      <td>...</td>\n",
       "      <td>...</td>\n",
       "      <td>...</td>\n",
       "      <td>...</td>\n",
       "      <td>...</td>\n",
       "      <td>...</td>\n",
       "      <td>...</td>\n",
       "    </tr>\n",
       "    <tr>\n",
       "      <th>7995</th>\n",
       "      <td>140</td>\n",
       "      <td>2.5</td>\n",
       "      <td>64</td>\n",
       "      <td>21.889</td>\n",
       "      <td>0</td>\n",
       "      <td>29.9</td>\n",
       "      <td>4</td>\n",
       "      <td>8</td>\n",
       "    </tr>\n",
       "    <tr>\n",
       "      <th>7996</th>\n",
       "      <td>143</td>\n",
       "      <td>2.7</td>\n",
       "      <td>65</td>\n",
       "      <td>21.833</td>\n",
       "      <td>0</td>\n",
       "      <td>29.9</td>\n",
       "      <td>4</td>\n",
       "      <td>8</td>\n",
       "    </tr>\n",
       "    <tr>\n",
       "      <th>7997</th>\n",
       "      <td>154</td>\n",
       "      <td>2.8</td>\n",
       "      <td>65</td>\n",
       "      <td>21.833</td>\n",
       "      <td>0</td>\n",
       "      <td>29.9</td>\n",
       "      <td>4</td>\n",
       "      <td>8</td>\n",
       "    </tr>\n",
       "    <tr>\n",
       "      <th>7998</th>\n",
       "      <td>154</td>\n",
       "      <td>3.2</td>\n",
       "      <td>65</td>\n",
       "      <td>21.833</td>\n",
       "      <td>0</td>\n",
       "      <td>29.9</td>\n",
       "      <td>4</td>\n",
       "      <td>8</td>\n",
       "    </tr>\n",
       "    <tr>\n",
       "      <th>7999</th>\n",
       "      <td>151</td>\n",
       "      <td>3.1</td>\n",
       "      <td>65</td>\n",
       "      <td>21.722</td>\n",
       "      <td>0</td>\n",
       "      <td>29.9</td>\n",
       "      <td>4</td>\n",
       "      <td>8</td>\n",
       "    </tr>\n",
       "  </tbody>\n",
       "</table>\n",
       "<p>8000 rows × 8 columns</p>\n",
       "</div>"
      ],
      "text/plain": [
       "      Direccion del viento  Velocidad del viento  % de Humedad  Temperatura  \\\n",
       "0                      180                   0.0            72       17.000   \n",
       "1                      171                   0.0            72       17.056   \n",
       "2                      136                   1.9            72       17.111   \n",
       "3                      138                   1.9            71       17.111   \n",
       "4                      171                   1.9            72       17.000   \n",
       "...                    ...                   ...           ...          ...   \n",
       "7995                   140                   2.5            64       21.889   \n",
       "7996                   143                   2.7            65       21.833   \n",
       "7997                   154                   2.8            65       21.833   \n",
       "7998                   154                   3.2            65       21.833   \n",
       "7999                   151                   3.1            65       21.722   \n",
       "\n",
       "      Lluvia  Presion atmosferica  Potencia  Intensidad luminica  \n",
       "0          0                 30.1         4                   63  \n",
       "1          0                 30.1         4                   63  \n",
       "2          0                 30.1         4                   63  \n",
       "3          0                 30.1         4                   63  \n",
       "4          0                 30.1         4                   63  \n",
       "...      ...                  ...       ...                  ...  \n",
       "7995       0                 29.9         4                    8  \n",
       "7996       0                 29.9         4                    8  \n",
       "7997       0                 29.9         4                    8  \n",
       "7998       0                 29.9         4                    8  \n",
       "7999       0                 29.9         4                    8  \n",
       "\n",
       "[8000 rows x 8 columns]"
      ]
     },
     "execution_count": 3,
     "metadata": {},
     "output_type": "execute_result"
    }
   ],
   "source": [
    " #Guardar el archivo CSV en la varible data.\n",
    "x=pd.read_csv(\"Source/datosclima_verano2016.csv\", names=('Direccion del viento','Velocidad del viento', '% de Humedad', 'Temperatura','Lluvia', 'Presion atmosferica','Potencia', 'Intensidad luminica'))\n",
    "x"
   ]
  },
  {
   "cell_type": "code",
   "execution_count": 4,
   "id": "bdb5741e",
   "metadata": {},
   "outputs": [
    {
     "data": {
      "text/plain": [
       "False"
      ]
     },
     "execution_count": 4,
     "metadata": {},
     "output_type": "execute_result"
    }
   ],
   "source": [
    "x.isnull().values.any()  #Validar si hay datos NaN"
   ]
  },
  {
   "cell_type": "code",
   "execution_count": 5,
   "id": "b65f5e39",
   "metadata": {},
   "outputs": [
    {
     "data": {
      "text/plain": [
       "numpy.float64"
      ]
     },
     "execution_count": 5,
     "metadata": {},
     "output_type": "execute_result"
    }
   ],
   "source": [
    "type(x['Velocidad del viento'][0])  #Validar el tipo de los datos"
   ]
  },
  {
   "cell_type": "code",
   "execution_count": 6,
   "id": "a993226a",
   "metadata": {},
   "outputs": [
    {
     "data": {
      "text/html": [
       "<div>\n",
       "<style scoped>\n",
       "    .dataframe tbody tr th:only-of-type {\n",
       "        vertical-align: middle;\n",
       "    }\n",
       "\n",
       "    .dataframe tbody tr th {\n",
       "        vertical-align: top;\n",
       "    }\n",
       "\n",
       "    .dataframe thead th {\n",
       "        text-align: right;\n",
       "    }\n",
       "</style>\n",
       "<table border=\"1\" class=\"dataframe\">\n",
       "  <thead>\n",
       "    <tr style=\"text-align: right;\">\n",
       "      <th></th>\n",
       "      <th>Velocidad del viento</th>\n",
       "      <th>% de Humedad</th>\n",
       "      <th>Temperatura</th>\n",
       "      <th>Presion atmosferica</th>\n",
       "    </tr>\n",
       "  </thead>\n",
       "  <tbody>\n",
       "    <tr>\n",
       "      <th>0</th>\n",
       "      <td>0.0</td>\n",
       "      <td>72</td>\n",
       "      <td>17.000</td>\n",
       "      <td>30.1</td>\n",
       "    </tr>\n",
       "    <tr>\n",
       "      <th>1</th>\n",
       "      <td>0.0</td>\n",
       "      <td>72</td>\n",
       "      <td>17.056</td>\n",
       "      <td>30.1</td>\n",
       "    </tr>\n",
       "    <tr>\n",
       "      <th>2</th>\n",
       "      <td>1.9</td>\n",
       "      <td>72</td>\n",
       "      <td>17.111</td>\n",
       "      <td>30.1</td>\n",
       "    </tr>\n",
       "    <tr>\n",
       "      <th>3</th>\n",
       "      <td>1.9</td>\n",
       "      <td>71</td>\n",
       "      <td>17.111</td>\n",
       "      <td>30.1</td>\n",
       "    </tr>\n",
       "    <tr>\n",
       "      <th>4</th>\n",
       "      <td>1.9</td>\n",
       "      <td>72</td>\n",
       "      <td>17.000</td>\n",
       "      <td>30.1</td>\n",
       "    </tr>\n",
       "    <tr>\n",
       "      <th>...</th>\n",
       "      <td>...</td>\n",
       "      <td>...</td>\n",
       "      <td>...</td>\n",
       "      <td>...</td>\n",
       "    </tr>\n",
       "    <tr>\n",
       "      <th>7995</th>\n",
       "      <td>2.5</td>\n",
       "      <td>64</td>\n",
       "      <td>21.889</td>\n",
       "      <td>29.9</td>\n",
       "    </tr>\n",
       "    <tr>\n",
       "      <th>7996</th>\n",
       "      <td>2.7</td>\n",
       "      <td>65</td>\n",
       "      <td>21.833</td>\n",
       "      <td>29.9</td>\n",
       "    </tr>\n",
       "    <tr>\n",
       "      <th>7997</th>\n",
       "      <td>2.8</td>\n",
       "      <td>65</td>\n",
       "      <td>21.833</td>\n",
       "      <td>29.9</td>\n",
       "    </tr>\n",
       "    <tr>\n",
       "      <th>7998</th>\n",
       "      <td>3.2</td>\n",
       "      <td>65</td>\n",
       "      <td>21.833</td>\n",
       "      <td>29.9</td>\n",
       "    </tr>\n",
       "    <tr>\n",
       "      <th>7999</th>\n",
       "      <td>3.1</td>\n",
       "      <td>65</td>\n",
       "      <td>21.722</td>\n",
       "      <td>29.9</td>\n",
       "    </tr>\n",
       "  </tbody>\n",
       "</table>\n",
       "<p>8000 rows × 4 columns</p>\n",
       "</div>"
      ],
      "text/plain": [
       "      Velocidad del viento  % de Humedad  Temperatura  Presion atmosferica\n",
       "0                      0.0            72       17.000                 30.1\n",
       "1                      0.0            72       17.056                 30.1\n",
       "2                      1.9            72       17.111                 30.1\n",
       "3                      1.9            71       17.111                 30.1\n",
       "4                      1.9            72       17.000                 30.1\n",
       "...                    ...           ...          ...                  ...\n",
       "7995                   2.5            64       21.889                 29.9\n",
       "7996                   2.7            65       21.833                 29.9\n",
       "7997                   2.8            65       21.833                 29.9\n",
       "7998                   3.2            65       21.833                 29.9\n",
       "7999                   3.1            65       21.722                 29.9\n",
       "\n",
       "[8000 rows x 4 columns]"
      ]
     },
     "execution_count": 6,
     "metadata": {},
     "output_type": "execute_result"
    }
   ],
   "source": [
    "x=x.drop(labels=['Direccion del viento','Lluvia','Potencia','Intensidad luminica'], axis=1) #Eliminar las columnas innecesarias.\n",
    "x"
   ]
  },
  {
   "cell_type": "code",
   "execution_count": 7,
   "id": "8afd69ed",
   "metadata": {},
   "outputs": [
    {
     "data": {
      "text/html": [
       "<div>\n",
       "<style scoped>\n",
       "    .dataframe tbody tr th:only-of-type {\n",
       "        vertical-align: middle;\n",
       "    }\n",
       "\n",
       "    .dataframe tbody tr th {\n",
       "        vertical-align: top;\n",
       "    }\n",
       "\n",
       "    .dataframe thead th {\n",
       "        text-align: right;\n",
       "    }\n",
       "</style>\n",
       "<table border=\"1\" class=\"dataframe\">\n",
       "  <thead>\n",
       "    <tr style=\"text-align: right;\">\n",
       "      <th></th>\n",
       "      <th>rocio</th>\n",
       "    </tr>\n",
       "  </thead>\n",
       "  <tbody>\n",
       "    <tr>\n",
       "      <th>0</th>\n",
       "      <td>11.906</td>\n",
       "    </tr>\n",
       "    <tr>\n",
       "      <th>1</th>\n",
       "      <td>11.959</td>\n",
       "    </tr>\n",
       "    <tr>\n",
       "      <th>2</th>\n",
       "      <td>12.013</td>\n",
       "    </tr>\n",
       "    <tr>\n",
       "      <th>3</th>\n",
       "      <td>11.800</td>\n",
       "    </tr>\n",
       "    <tr>\n",
       "      <th>4</th>\n",
       "      <td>11.906</td>\n",
       "    </tr>\n",
       "    <tr>\n",
       "      <th>...</th>\n",
       "      <td>...</td>\n",
       "    </tr>\n",
       "    <tr>\n",
       "      <th>7995</th>\n",
       "      <td>14.760</td>\n",
       "    </tr>\n",
       "    <tr>\n",
       "      <th>7996</th>\n",
       "      <td>14.948</td>\n",
       "    </tr>\n",
       "    <tr>\n",
       "      <th>7997</th>\n",
       "      <td>14.948</td>\n",
       "    </tr>\n",
       "    <tr>\n",
       "      <th>7998</th>\n",
       "      <td>14.948</td>\n",
       "    </tr>\n",
       "    <tr>\n",
       "      <th>7999</th>\n",
       "      <td>14.843</td>\n",
       "    </tr>\n",
       "  </tbody>\n",
       "</table>\n",
       "<p>8000 rows × 1 columns</p>\n",
       "</div>"
      ],
      "text/plain": [
       "       rocio\n",
       "0     11.906\n",
       "1     11.959\n",
       "2     12.013\n",
       "3     11.800\n",
       "4     11.906\n",
       "...      ...\n",
       "7995  14.760\n",
       "7996  14.948\n",
       "7997  14.948\n",
       "7998  14.948\n",
       "7999  14.843\n",
       "\n",
       "[8000 rows x 1 columns]"
      ]
     },
     "execution_count": 7,
     "metadata": {},
     "output_type": "execute_result"
    }
   ],
   "source": [
    "y=pd.read_csv(\"Source/saturacion.csv\", names=('rocio',)) #Leer el CSV para almacenar Y.\n",
    "y"
   ]
  },
  {
   "cell_type": "code",
   "execution_count": 8,
   "id": "1305187b",
   "metadata": {},
   "outputs": [
    {
     "data": {
      "text/plain": [
       "False"
      ]
     },
     "execution_count": 8,
     "metadata": {},
     "output_type": "execute_result"
    }
   ],
   "source": [
    "x.isnull().values.any() #Validar si hay datos NaN."
   ]
  },
  {
   "cell_type": "code",
   "execution_count": 9,
   "id": "c59e5d1d",
   "metadata": {},
   "outputs": [
    {
     "data": {
      "text/plain": [
       "numpy.float64"
      ]
     },
     "execution_count": 9,
     "metadata": {},
     "output_type": "execute_result"
    }
   ],
   "source": [
    "type(y['rocio'][0]) #Validar si el tipo de datos es numerico."
   ]
  },
  {
   "cell_type": "code",
   "execution_count": 10,
   "id": "5e15bd81",
   "metadata": {},
   "outputs": [
    {
     "data": {
      "text/html": [
       "<style>#sk-container-id-1 {color: black;background-color: white;}#sk-container-id-1 pre{padding: 0;}#sk-container-id-1 div.sk-toggleable {background-color: white;}#sk-container-id-1 label.sk-toggleable__label {cursor: pointer;display: block;width: 100%;margin-bottom: 0;padding: 0.3em;box-sizing: border-box;text-align: center;}#sk-container-id-1 label.sk-toggleable__label-arrow:before {content: \"▸\";float: left;margin-right: 0.25em;color: #696969;}#sk-container-id-1 label.sk-toggleable__label-arrow:hover:before {color: black;}#sk-container-id-1 div.sk-estimator:hover label.sk-toggleable__label-arrow:before {color: black;}#sk-container-id-1 div.sk-toggleable__content {max-height: 0;max-width: 0;overflow: hidden;text-align: left;background-color: #f0f8ff;}#sk-container-id-1 div.sk-toggleable__content pre {margin: 0.2em;color: black;border-radius: 0.25em;background-color: #f0f8ff;}#sk-container-id-1 input.sk-toggleable__control:checked~div.sk-toggleable__content {max-height: 200px;max-width: 100%;overflow: auto;}#sk-container-id-1 input.sk-toggleable__control:checked~label.sk-toggleable__label-arrow:before {content: \"▾\";}#sk-container-id-1 div.sk-estimator input.sk-toggleable__control:checked~label.sk-toggleable__label {background-color: #d4ebff;}#sk-container-id-1 div.sk-label input.sk-toggleable__control:checked~label.sk-toggleable__label {background-color: #d4ebff;}#sk-container-id-1 input.sk-hidden--visually {border: 0;clip: rect(1px 1px 1px 1px);clip: rect(1px, 1px, 1px, 1px);height: 1px;margin: -1px;overflow: hidden;padding: 0;position: absolute;width: 1px;}#sk-container-id-1 div.sk-estimator {font-family: monospace;background-color: #f0f8ff;border: 1px dotted black;border-radius: 0.25em;box-sizing: border-box;margin-bottom: 0.5em;}#sk-container-id-1 div.sk-estimator:hover {background-color: #d4ebff;}#sk-container-id-1 div.sk-parallel-item::after {content: \"\";width: 100%;border-bottom: 1px solid gray;flex-grow: 1;}#sk-container-id-1 div.sk-label:hover label.sk-toggleable__label {background-color: #d4ebff;}#sk-container-id-1 div.sk-serial::before {content: \"\";position: absolute;border-left: 1px solid gray;box-sizing: border-box;top: 0;bottom: 0;left: 50%;z-index: 0;}#sk-container-id-1 div.sk-serial {display: flex;flex-direction: column;align-items: center;background-color: white;padding-right: 0.2em;padding-left: 0.2em;position: relative;}#sk-container-id-1 div.sk-item {position: relative;z-index: 1;}#sk-container-id-1 div.sk-parallel {display: flex;align-items: stretch;justify-content: center;background-color: white;position: relative;}#sk-container-id-1 div.sk-item::before, #sk-container-id-1 div.sk-parallel-item::before {content: \"\";position: absolute;border-left: 1px solid gray;box-sizing: border-box;top: 0;bottom: 0;left: 50%;z-index: -1;}#sk-container-id-1 div.sk-parallel-item {display: flex;flex-direction: column;z-index: 1;position: relative;background-color: white;}#sk-container-id-1 div.sk-parallel-item:first-child::after {align-self: flex-end;width: 50%;}#sk-container-id-1 div.sk-parallel-item:last-child::after {align-self: flex-start;width: 50%;}#sk-container-id-1 div.sk-parallel-item:only-child::after {width: 0;}#sk-container-id-1 div.sk-dashed-wrapped {border: 1px dashed gray;margin: 0 0.4em 0.5em 0.4em;box-sizing: border-box;padding-bottom: 0.4em;background-color: white;}#sk-container-id-1 div.sk-label label {font-family: monospace;font-weight: bold;display: inline-block;line-height: 1.2em;}#sk-container-id-1 div.sk-label-container {text-align: center;}#sk-container-id-1 div.sk-container {/* jupyter's `normalize.less` sets `[hidden] { display: none; }` but bootstrap.min.css set `[hidden] { display: none !important; }` so we also need the `!important` here to be able to override the default hidden behavior on the sphinx rendered scikit-learn.org. See: https://github.com/scikit-learn/scikit-learn/issues/21755 */display: inline-block !important;position: relative;}#sk-container-id-1 div.sk-text-repr-fallback {display: none;}</style><div id=\"sk-container-id-1\" class=\"sk-top-container\"><div class=\"sk-text-repr-fallback\"><pre>MLPRegressor(hidden_layer_sizes=(1, 10), max_iter=1000)</pre><b>In a Jupyter environment, please rerun this cell to show the HTML representation or trust the notebook. <br />On GitHub, the HTML representation is unable to render, please try loading this page with nbviewer.org.</b></div><div class=\"sk-container\" hidden><div class=\"sk-item\"><div class=\"sk-estimator sk-toggleable\"><input class=\"sk-toggleable__control sk-hidden--visually\" id=\"sk-estimator-id-1\" type=\"checkbox\" checked><label for=\"sk-estimator-id-1\" class=\"sk-toggleable__label sk-toggleable__label-arrow\">MLPRegressor</label><div class=\"sk-toggleable__content\"><pre>MLPRegressor(hidden_layer_sizes=(1, 10), max_iter=1000)</pre></div></div></div></div></div>"
      ],
      "text/plain": [
       "MLPRegressor(hidden_layer_sizes=(1, 10), max_iter=1000)"
      ]
     },
     "execution_count": 10,
     "metadata": {},
     "output_type": "execute_result"
    }
   ],
   "source": [
    "modelo=MLPRegressor(hidden_layer_sizes=(1,10), max_iter=1000)  #Creacion del modelo.\n",
    "modelo.fit(x.values,y.values.ravel())   #Ingresar los datos al modelo."
   ]
  },
  {
   "cell_type": "code",
   "execution_count": 11,
   "id": "ee1041bd",
   "metadata": {},
   "outputs": [
    {
     "name": "stdout",
     "output_type": "stream",
     "text": [
      "Score: 0.977122800868553\n"
     ]
    }
   ],
   "source": [
    "score = modelo.score(x.values, y.values)  #Obtener el desempeño del modelo.\n",
    "print(\"Score:\", score)"
   ]
  },
  {
   "cell_type": "code",
   "execution_count": 12,
   "id": "5521f252",
   "metadata": {},
   "outputs": [
    {
     "name": "stdout",
     "output_type": "stream",
     "text": [
      "[14.19855533]\n"
     ]
    }
   ],
   "source": [
    "test_data=[[2.2,63,22.11,29.90]]  #Crear la data de testeo\n",
    "rocio_predict=modelo.predict(test_data)  #Ingresarlo al modelo.\n",
    "print(rocio_predict)"
   ]
  },
  {
   "cell_type": "code",
   "execution_count": 13,
   "id": "03555f26",
   "metadata": {},
   "outputs": [
    {
     "name": "stdout",
     "output_type": "stream",
     "text": [
      "[0.52144467]\n"
     ]
    }
   ],
   "source": [
    "dato_real=14.72\n",
    "error = abs(rocio_predict - dato_real)  #Obtener el error en la predicción.\n",
    "print(error)"
   ]
  },
  {
   "cell_type": "markdown",
   "id": "b3a90a30",
   "metadata": {},
   "source": [
    "### La prediccion del modelo se aproxima bastante a la respuesta real. Cada vez que se compila el modelo, el resultado cambia, por lo que no se puede obtener un valor constante para el mismo."
   ]
  },
  {
   "cell_type": "code",
   "execution_count": null,
   "id": "599bac3d",
   "metadata": {},
   "outputs": [],
   "source": []
  }
 ],
 "metadata": {
  "kernelspec": {
   "display_name": "Python 3 (ipykernel)",
   "language": "python",
   "name": "python3"
  },
  "language_info": {
   "codemirror_mode": {
    "name": "ipython",
    "version": 3
   },
   "file_extension": ".py",
   "mimetype": "text/x-python",
   "name": "python",
   "nbconvert_exporter": "python",
   "pygments_lexer": "ipython3",
   "version": "3.10.9"
  }
 },
 "nbformat": 4,
 "nbformat_minor": 5
}
